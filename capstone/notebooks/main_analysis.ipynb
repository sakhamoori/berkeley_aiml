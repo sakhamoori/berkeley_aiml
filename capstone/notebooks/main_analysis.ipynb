{
 "cells": [
  {
   "cell_type": "markdown",
   "metadata": {},
   "source": [
    "# E-commerce Behavior Analysis: Main Analysis\n",
    "\n",
    "This notebook implements the core components of our e-commerce analysis system, including:\n",
    "1. Recommendation System\n",
    "2. User Segmentation\n",
    "3. A/B Testing\n",
    "4. Advanced Analytics"
   ]
  },
  {
   "cell_type": "code",
   "execution_count": 4,
   "metadata": {},
   "outputs": [],
   "source": [
    "# from google.colab import drive\n",
    "# drive.mount('/content/drive')"
   ]
  },
  {
   "cell_type": "code",
   "execution_count": 5,
   "metadata": {},
   "outputs": [],
   "source": [
    "# Import necessary libraries\n",
    "import pandas as pd\n",
    "import numpy as np\n",
    "import matplotlib.pyplot as plt\n",
    "import seaborn as sns\n",
    "from sklearn.cluster import KMeans\n",
    "from sklearn.preprocessing import StandardScaler\n",
    "from sklearn.metrics.pairwise import cosine_similarity\n",
    "from scipy import stats\n",
    "import plotly.express as px\n",
    "import plotly.graph_objects as go\n",
    "\n",
    "# Import custom modules\n",
    "import sys\n",
    "sys.path.append('../src')\n",
    "from recommendation_system import RecommendationSystem\n",
    "from user_segmentation import UserSegmentation\n",
    "from ab_testing import ABTesting"
   ]
  },
  {
   "cell_type": "markdown",
   "metadata": {},
   "source": [
    "## 1. Data Loading and Preparation"
   ]
  },
  {
   "cell_type": "code",
   "execution_count": 7,
   "metadata": {},
   "outputs": [
    {
     "name": "stdout",
     "output_type": "stream",
     "text": [
      "Dataset Shape: (42448764, 9)\n"
     ]
    },
    {
     "data": {
      "text/html": [
       "<div>\n",
       "<style scoped>\n",
       "    .dataframe tbody tr th:only-of-type {\n",
       "        vertical-align: middle;\n",
       "    }\n",
       "\n",
       "    .dataframe tbody tr th {\n",
       "        vertical-align: top;\n",
       "    }\n",
       "\n",
       "    .dataframe thead th {\n",
       "        text-align: right;\n",
       "    }\n",
       "</style>\n",
       "<table border=\"1\" class=\"dataframe\">\n",
       "  <thead>\n",
       "    <tr style=\"text-align: right;\">\n",
       "      <th></th>\n",
       "      <th>event_time</th>\n",
       "      <th>event_type</th>\n",
       "      <th>product_id</th>\n",
       "      <th>category_id</th>\n",
       "      <th>category_code</th>\n",
       "      <th>brand</th>\n",
       "      <th>price</th>\n",
       "      <th>user_id</th>\n",
       "      <th>user_session</th>\n",
       "    </tr>\n",
       "  </thead>\n",
       "  <tbody>\n",
       "    <tr>\n",
       "      <th>0</th>\n",
       "      <td>2019-10-01 00:00:00 UTC</td>\n",
       "      <td>view</td>\n",
       "      <td>44600062</td>\n",
       "      <td>2103807459595387724</td>\n",
       "      <td>NaN</td>\n",
       "      <td>shiseido</td>\n",
       "      <td>35.79</td>\n",
       "      <td>541312140</td>\n",
       "      <td>72d76fde-8bb3-4e00-8c23-a032dfed738c</td>\n",
       "    </tr>\n",
       "    <tr>\n",
       "      <th>1</th>\n",
       "      <td>2019-10-01 00:00:00 UTC</td>\n",
       "      <td>view</td>\n",
       "      <td>3900821</td>\n",
       "      <td>2053013552326770905</td>\n",
       "      <td>appliances.environment.water_heater</td>\n",
       "      <td>aqua</td>\n",
       "      <td>33.20</td>\n",
       "      <td>554748717</td>\n",
       "      <td>9333dfbd-b87a-4708-9857-6336556b0fcc</td>\n",
       "    </tr>\n",
       "    <tr>\n",
       "      <th>2</th>\n",
       "      <td>2019-10-01 00:00:01 UTC</td>\n",
       "      <td>view</td>\n",
       "      <td>17200506</td>\n",
       "      <td>2053013559792632471</td>\n",
       "      <td>furniture.living_room.sofa</td>\n",
       "      <td>NaN</td>\n",
       "      <td>543.10</td>\n",
       "      <td>519107250</td>\n",
       "      <td>566511c2-e2e3-422b-b695-cf8e6e792ca8</td>\n",
       "    </tr>\n",
       "    <tr>\n",
       "      <th>3</th>\n",
       "      <td>2019-10-01 00:00:01 UTC</td>\n",
       "      <td>view</td>\n",
       "      <td>1307067</td>\n",
       "      <td>2053013558920217191</td>\n",
       "      <td>computers.notebook</td>\n",
       "      <td>lenovo</td>\n",
       "      <td>251.74</td>\n",
       "      <td>550050854</td>\n",
       "      <td>7c90fc70-0e80-4590-96f3-13c02c18c713</td>\n",
       "    </tr>\n",
       "    <tr>\n",
       "      <th>4</th>\n",
       "      <td>2019-10-01 00:00:04 UTC</td>\n",
       "      <td>view</td>\n",
       "      <td>1004237</td>\n",
       "      <td>2053013555631882655</td>\n",
       "      <td>electronics.smartphone</td>\n",
       "      <td>apple</td>\n",
       "      <td>1081.98</td>\n",
       "      <td>535871217</td>\n",
       "      <td>c6bd7419-2748-4c56-95b4-8cec9ff8b80d</td>\n",
       "    </tr>\n",
       "  </tbody>\n",
       "</table>\n",
       "</div>"
      ],
      "text/plain": [
       "                event_time event_type  product_id          category_id  \\\n",
       "0  2019-10-01 00:00:00 UTC       view    44600062  2103807459595387724   \n",
       "1  2019-10-01 00:00:00 UTC       view     3900821  2053013552326770905   \n",
       "2  2019-10-01 00:00:01 UTC       view    17200506  2053013559792632471   \n",
       "3  2019-10-01 00:00:01 UTC       view     1307067  2053013558920217191   \n",
       "4  2019-10-01 00:00:04 UTC       view     1004237  2053013555631882655   \n",
       "\n",
       "                         category_code     brand    price    user_id  \\\n",
       "0                                  NaN  shiseido    35.79  541312140   \n",
       "1  appliances.environment.water_heater      aqua    33.20  554748717   \n",
       "2           furniture.living_room.sofa       NaN   543.10  519107250   \n",
       "3                   computers.notebook    lenovo   251.74  550050854   \n",
       "4               electronics.smartphone     apple  1081.98  535871217   \n",
       "\n",
       "                           user_session  \n",
       "0  72d76fde-8bb3-4e00-8c23-a032dfed738c  \n",
       "1  9333dfbd-b87a-4708-9857-6336556b0fcc  \n",
       "2  566511c2-e2e3-422b-b695-cf8e6e792ca8  \n",
       "3  7c90fc70-0e80-4590-96f3-13c02c18c713  \n",
       "4  c6bd7419-2748-4c56-95b4-8cec9ff8b80d  "
      ]
     },
     "execution_count": 7,
     "metadata": {},
     "output_type": "execute_result"
    }
   ],
   "source": [
    "# Load the dataset\n",
    "df = pd.read_csv('../data/raw/2019-Oct.csv')\n",
    "\n",
    "# Display basic information\n",
    "print(\"Dataset Shape:\", df.shape)\n",
    "df.head()"
   ]
  },
  {
   "cell_type": "markdown",
   "metadata": {},
   "source": [
    "## 2. Recommendation System Implementation"
   ]
  },
  {
   "cell_type": "code",
   "execution_count": 8,
   "metadata": {},
   "outputs": [
    {
     "name": "stdout",
     "output_type": "stream",
     "text": [
      "Initial memory usage: 0.36 GB\n",
      "Creating mappings...\n",
      "Creating user mappings...\n",
      "Creating item mappings...\n",
      "Processing data in batches...\n"
     ]
    },
    {
     "data": {
      "application/vnd.jupyter.widget-view+json": {
       "model_id": "192df640070541478ebb3544c3423d3a",
       "version_major": 2,
       "version_minor": 0
      },
      "text/plain": [
       "Processing batches:   0%|          | 0/849 [00:00<?, ?it/s]"
      ]
     },
     "metadata": {},
     "output_type": "display_data"
    },
    {
     "name": "stdout",
     "output_type": "stream",
     "text": [
      "Memory usage after batch 0: 0.75 GB\n",
      "Memory usage after batch 10: 0.74 GB\n",
      "Memory usage after batch 20: 0.76 GB\n",
      "Memory usage after batch 30: 0.71 GB\n",
      "Memory usage after batch 40: 0.64 GB\n",
      "Memory usage after batch 50: 0.57 GB\n",
      "Memory usage after batch 60: 0.52 GB\n",
      "Memory usage after batch 70: 0.52 GB\n",
      "Memory usage after batch 80: 0.61 GB\n",
      "Memory usage after batch 90: 0.62 GB\n",
      "Memory usage after batch 100: 0.65 GB\n",
      "Memory usage after batch 110: 0.66 GB\n",
      "Memory usage after batch 120: 0.58 GB\n",
      "Memory usage after batch 130: 0.66 GB\n",
      "Memory usage after batch 140: 0.67 GB\n",
      "Memory usage after batch 150: 0.64 GB\n",
      "Memory usage after batch 160: 0.62 GB\n",
      "Memory usage after batch 170: 0.66 GB\n",
      "Memory usage after batch 180: 0.70 GB\n",
      "Memory usage after batch 190: 0.62 GB\n",
      "Memory usage after batch 200: 0.68 GB\n",
      "Memory usage after batch 210: 0.62 GB\n",
      "Memory usage after batch 220: 0.79 GB\n",
      "Memory usage after batch 230: 0.72 GB\n",
      "Memory usage after batch 240: 0.72 GB\n",
      "Memory usage after batch 250: 0.74 GB\n",
      "Memory usage after batch 260: 0.74 GB\n",
      "Memory usage after batch 270: 0.77 GB\n",
      "Memory usage after batch 280: 0.75 GB\n",
      "Memory usage after batch 290: 0.78 GB\n",
      "Memory usage after batch 300: 0.77 GB\n",
      "Memory usage after batch 310: 0.77 GB\n",
      "Memory usage after batch 320: 0.83 GB\n",
      "Memory usage after batch 330: 0.79 GB\n",
      "Memory usage after batch 340: 0.80 GB\n",
      "Memory usage after batch 350: 0.98 GB\n",
      "Memory usage after batch 360: 0.82 GB\n",
      "Memory usage after batch 370: 0.84 GB\n",
      "Memory usage after batch 380: 1.09 GB\n",
      "Memory usage after batch 390: 0.92 GB\n",
      "Memory usage after batch 400: 1.01 GB\n",
      "Memory usage after batch 410: 0.96 GB\n",
      "Memory usage after batch 420: 0.99 GB\n",
      "Memory usage after batch 430: 1.03 GB\n",
      "Memory usage after batch 440: 1.09 GB\n",
      "Memory usage after batch 450: 0.99 GB\n",
      "Memory usage after batch 460: 1.08 GB\n",
      "Memory usage after batch 470: 1.03 GB\n",
      "Memory usage after batch 480: 1.11 GB\n",
      "Memory usage after batch 490: 1.14 GB\n",
      "Memory usage after batch 500: 1.17 GB\n",
      "Memory usage after batch 510: 1.16 GB\n",
      "Memory usage after batch 520: 1.24 GB\n",
      "Memory usage after batch 530: 1.18 GB\n",
      "Memory usage after batch 540: 1.17 GB\n",
      "Memory usage after batch 550: 1.21 GB\n",
      "Memory usage after batch 560: 1.12 GB\n",
      "Memory usage after batch 570: 1.10 GB\n",
      "Memory usage after batch 580: 1.19 GB\n",
      "Memory usage after batch 590: 1.22 GB\n",
      "Memory usage after batch 600: 1.15 GB\n",
      "Memory usage after batch 610: 0.97 GB\n",
      "Memory usage after batch 620: 0.76 GB\n",
      "Memory usage after batch 630: 0.77 GB\n",
      "Memory usage after batch 640: 0.76 GB\n",
      "Memory usage after batch 650: 0.76 GB\n",
      "Memory usage after batch 660: 0.76 GB\n",
      "Memory usage after batch 670: 0.77 GB\n",
      "Memory usage after batch 680: 0.77 GB\n",
      "Memory usage after batch 690: 0.61 GB\n",
      "Memory usage after batch 700: 0.79 GB\n",
      "Memory usage after batch 710: 0.80 GB\n",
      "Memory usage after batch 720: 0.80 GB\n",
      "Memory usage after batch 730: 0.81 GB\n",
      "Memory usage after batch 740: 0.81 GB\n",
      "Memory usage after batch 750: 0.79 GB\n",
      "Memory usage after batch 760: 0.82 GB\n",
      "Memory usage after batch 770: 0.83 GB\n",
      "Memory usage after batch 780: 0.84 GB\n",
      "Memory usage after batch 790: 0.83 GB\n",
      "Memory usage after batch 800: 0.83 GB\n",
      "Memory usage after batch 810: 0.85 GB\n",
      "Memory usage after batch 820: 0.85 GB\n",
      "Memory usage after batch 830: 0.72 GB\n",
      "Memory usage after batch 840: 0.87 GB\n",
      "Memory usage after creating user-item matrix: 0.80 GB\n",
      "Calculating similarity matrices...\n",
      "Calculating item similarities...\n"
     ]
    },
    {
     "data": {
      "application/vnd.jupyter.widget-view+json": {
       "model_id": "e5daa21c05db47a7a1e9ef84ee54060c",
       "version_major": 2,
       "version_minor": 0
      },
      "text/plain": [
       "Processing item chunks:   0%|          | 0/334 [00:00<?, ?it/s]"
      ]
     },
     "metadata": {},
     "output_type": "display_data"
    },
    {
     "ename": "NameError",
     "evalue": "name 'start_time' is not defined",
     "output_type": "error",
     "traceback": [
      "\u001b[31m---------------------------------------------------------------------------\u001b[39m",
      "\u001b[31mNameError\u001b[39m                                 Traceback (most recent call last)",
      "\u001b[36mCell\u001b[39m\u001b[36m \u001b[39m\u001b[32mIn[8]\u001b[39m\u001b[32m, line 4\u001b[39m\n\u001b[32m      1\u001b[39m \u001b[38;5;66;03m# Initialize and fit the recommendation system\u001b[39;00m\n\u001b[32m      2\u001b[39m rec_system = RecommendationSystem(use_gpu=\u001b[38;5;28;01mTrue\u001b[39;00m, batch_size=\u001b[32m50000\u001b[39m, timeout=\u001b[32m7200\u001b[39m)  \u001b[38;5;66;03m# Adjust batch_size based on your memory\u001b[39;00m\n\u001b[32m----> \u001b[39m\u001b[32m4\u001b[39m \u001b[43mrec_system\u001b[49m\u001b[43m.\u001b[49m\u001b[43mfit\u001b[49m\u001b[43m(\u001b[49m\u001b[43mdf\u001b[49m\u001b[43m)\u001b[49m\n\u001b[32m      6\u001b[39m \u001b[38;5;66;03m# Get recommendations for a sample user\u001b[39;00m\n\u001b[32m      7\u001b[39m sample_user = df[\u001b[33m'\u001b[39m\u001b[33muser_id\u001b[39m\u001b[33m'\u001b[39m].iloc[\u001b[32m0\u001b[39m]\n",
      "\u001b[36mFile \u001b[39m\u001b[32m~/Documents/Berkely/capstone/notebooks/../src/recommendation_system.py:133\u001b[39m, in \u001b[36mRecommendationSystem.fit\u001b[39m\u001b[34m(self, df)\u001b[39m\n\u001b[32m    131\u001b[39m \u001b[38;5;28mprint\u001b[39m(\u001b[33mf\u001b[39m\u001b[33m\"\u001b[39m\u001b[33mMemory usage after creating user-item matrix: \u001b[39m\u001b[38;5;132;01m{\u001b[39;00m\u001b[38;5;28mself\u001b[39m._get_memory_usage()\u001b[38;5;132;01m:\u001b[39;00m\u001b[33m.2f\u001b[39m\u001b[38;5;132;01m}\u001b[39;00m\u001b[33m GB\u001b[39m\u001b[33m\"\u001b[39m)\n\u001b[32m    132\u001b[39m \u001b[38;5;28mprint\u001b[39m(\u001b[33m\"\u001b[39m\u001b[33mCalculating similarity matrices...\u001b[39m\u001b[33m\"\u001b[39m)\n\u001b[32m--> \u001b[39m\u001b[32m133\u001b[39m \u001b[38;5;28;43mself\u001b[39;49m\u001b[43m.\u001b[49m\u001b[43m_calculate_similarities_chunked\u001b[49m\u001b[43m(\u001b[49m\u001b[43m)\u001b[49m\n",
      "\u001b[36mFile \u001b[39m\u001b[32m~/Documents/Berkely/capstone/notebooks/../src/recommendation_system.py:152\u001b[39m, in \u001b[36mRecommendationSystem._calculate_similarities_chunked\u001b[39m\u001b[34m(self)\u001b[39m\n\u001b[32m    149\u001b[39m     \u001b[38;5;28mself\u001b[39m.item_similarity_matrix = np.zeros((n_items, n_items))\n\u001b[32m    151\u001b[39m \u001b[38;5;28;01mfor\u001b[39;00m i \u001b[38;5;129;01min\u001b[39;00m tqdm(\u001b[38;5;28mrange\u001b[39m(\u001b[32m0\u001b[39m, n_items, chunk_size), desc=\u001b[33m\"\u001b[39m\u001b[33mProcessing item chunks\u001b[39m\u001b[33m\"\u001b[39m):\n\u001b[32m--> \u001b[39m\u001b[32m152\u001b[39m     \u001b[38;5;28;01mif\u001b[39;00m time.time() - \u001b[43mstart_time\u001b[49m > \u001b[38;5;28mself\u001b[39m.timeout:\n\u001b[32m    153\u001b[39m         \u001b[38;5;28mprint\u001b[39m(\u001b[33m\"\u001b[39m\u001b[33mTimeout reached. Saving progress...\u001b[39m\u001b[33m\"\u001b[39m)\n\u001b[32m    154\u001b[39m         np.save(item_sim_path, \u001b[38;5;28mself\u001b[39m.item_similarity_matrix)\n",
      "\u001b[31mNameError\u001b[39m: name 'start_time' is not defined"
     ]
    }
   ],
   "source": [
    "# Initialize and fit the recommendation system\n",
    "rec_system = RecommendationSystem(use_gpu=True, batch_size=50000, timeout=7200)  # Adjust batch_size based on your memory\n",
    "\n",
    "rec_system.fit(df)\n",
    "\n",
    "# Get recommendations for a sample user\n",
    "sample_user = df['user_id'].iloc[0]\n",
    "recommendations = rec_system.get_hybrid_recommendations(sample_user, n_recommendations=5)\n",
    "print(f\"Recommendations for user {sample_user}:\")\n",
    "print(recommendations)"
   ]
  },
  {
   "cell_type": "markdown",
   "metadata": {},
   "source": [
    "## 3. User Segmentation Analysis"
   ]
  },
  {
   "cell_type": "code",
   "execution_count": null,
   "metadata": {},
   "outputs": [],
   "source": [
    "# Initialize and fit user segmentation\n",
    "user_seg = UserSegmentation(n_clusters=4)\n",
    "user_seg.fit(df)\n",
    "\n",
    "# Get cluster characteristics\n",
    "cluster_chars = user_seg.get_cluster_characteristics()\n",
    "print(\"Cluster Characteristics:\")\n",
    "cluster_chars.head()"
   ]
  },
  {
   "cell_type": "markdown",
   "metadata": {},
   "source": [
    "## 4. A/B Testing Analysis"
   ]
  },
  {
   "cell_type": "code",
   "execution_count": null,
   "metadata": {},
   "outputs": [],
   "source": [
    "# Example A/B test setup\n",
    "ab_test = ABTesting()\n",
    "# ab_test.load_data(control_data, treatment_data)\n",
    "# ab_test.calculate_metrics(['conversion_rate', 'avg_order_value', 'session_duration'])\n",
    "# report = ab_test.generate_report(['conversion_rate', 'avg_order_value', 'session_duration'])\n",
    "# print(report)"
   ]
  },
  {
   "cell_type": "markdown",
   "metadata": {},
   "source": [
    "## 5. Conclusions and Next Steps"
   ]
  },
  {
   "cell_type": "markdown",
   "metadata": {},
   "source": [
    "Summarize findings and outline next steps here."
   ]
  }
 ],
 "metadata": {
  "kernelspec": {
   "display_name": "Python 3 (ipykernel)",
   "language": "python",
   "name": "python3"
  },
  "language_info": {
   "codemirror_mode": {
    "name": "ipython",
    "version": 3
   },
   "file_extension": ".py",
   "mimetype": "text/x-python",
   "name": "python",
   "nbconvert_exporter": "python",
   "pygments_lexer": "ipython3",
   "version": "3.12.10"
  }
 },
 "nbformat": 4,
 "nbformat_minor": 4
}
