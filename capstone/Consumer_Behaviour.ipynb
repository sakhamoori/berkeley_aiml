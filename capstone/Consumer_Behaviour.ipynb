{
 "cells": [
  {
   "cell_type": "code",
   "execution_count": 1,
   "id": "21d21f64-aaf3-4613-aa50-c3d6c42aa7ba",
   "metadata": {},
   "outputs": [
    {
     "ename": "SyntaxError",
     "evalue": "invalid syntax (2823770420.py, line 3)",
     "output_type": "error",
     "traceback": [
      "\u001b[0;36m  Cell \u001b[0;32mIn[1], line 3\u001b[0;36m\u001b[0m\n\u001b[0;31m    Understand how AI-powered recommendation systems influence consumer purchasing behavior and reduce time spent shopping.\u001b[0m\n\u001b[0m               ^\u001b[0m\n\u001b[0;31mSyntaxError\u001b[0m\u001b[0;31m:\u001b[0m invalid syntax\n"
     ]
    }
   ],
   "source": [
    "# 🧠 AI-Driven Recommendation Systems and Consumer Behavior in E-Commerce\n",
    "## Objective\n",
    "Understand how AI-powered recommendation systems influence consumer purchasing behavior and reduce time spent shopping.\n",
    "\n",
    "## Data Sources\n",
    "- [Kaggle - Multi-category store behavior data](https://www.kaggle.com/datasets/mkechinov/ecommerce-behavior-data-from-multi-category-store)\n",
    "- Amazon product reviews & metadata (via API or Kaggle)\n",
    "\n",
    "## Key Questions\n",
    "- How do recommendations affect buying decisions?\n",
    "- Can we segment users based on behavior?\n",
    "- How does user behavior differ with and without AI recommendations?"
   ]
  },
  {
   "cell_type": "code",
   "execution_count": 2,
   "id": "fdea9c50-03b1-4661-a1aa-d8a4402a42a7",
   "metadata": {},
   "outputs": [],
   "source": [
    "# Table of Contents\n",
    "# 1. Introduction and Background\n",
    "# 2. Data Loading and Initial Exploration\n",
    "# 3. Data Cleaning and Preprocessing\n",
    "# 4. Exploratory Data Analysis\n",
    "# 5. User Segmentation (Clustering)\n",
    "# 6. Recommendation System Evaluation\n",
    "# 7. A/B Testing Simulation\n",
    "# 8. Time Series Analysis\n",
    "# 9. NLP on Product Reviews\n",
    "# 10. Initial Model Development\n",
    "# 11. Conclusions and Next Steps"
   ]
  },
  {
   "cell_type": "code",
   "execution_count": 3,
   "id": "e5813887-4e93-4c9f-8298-c5f68024f8ba",
   "metadata": {},
   "outputs": [],
   "source": [
    "#Import necessary libraries\n",
    "import pandas as pd\n",
    "import numpy as np\n",
    "import matplotlib.pyplot as plt\n",
    "import seaborn as sns\n",
    "from datetime import datetime\n",
    "import os\n",
    "import json\n",
    "import warnings"
   ]
  },
  {
   "cell_type": "code",
   "execution_count": 9,
   "id": "2ad3ffe6-0aba-44fb-81ec-384fa0bd1101",
   "metadata": {},
   "outputs": [],
   "source": [
    "# For advanced analysis\n",
    "from sklearn.cluster import KMeans, DBSCAN\n",
    "from sklearn.preprocessing import StandardScaler, MinMaxScaler\n",
    "from sklearn.decomposition import PCA\n",
    "from sklearn.metrics import silhouette_score\n",
    "from sklearn.model_selection import train_test_split\n",
    "from sklearn.ensemble import RandomForestClassifier\n",
    "from sklearn.metrics import classification_report, confusion_matrix, accuracy_score\n",
    "\n",
    "# For NLP\n",
    "import nltk\n",
    "from nltk.sentiment import SentimentIntensityAnalyzer\n",
    "from nltk.tokenize import word_tokenize\n",
    "from nltk.corpus import stopwords"
   ]
  },
  {
   "cell_type": "code",
   "execution_count": null,
   "id": "3d17c9f0-d4d8-4cca-8b1a-9f94e7397ad6",
   "metadata": {},
   "outputs": [],
   "source": [
    "# Set visualization style\n",
    "plt.style.use('seaborn-whitegrid')\n",
    "sns.set(style=\"whitegrid\")\n",
    "warnings.filterwarnings('ignore')"
   ]
  },
  {
   "cell_type": "code",
   "execution_count": null,
   "id": "ad31e841-d2c7-4f41-b53b-6fd2c9071f2e",
   "metadata": {},
   "outputs": [],
   "source": [
    "# ## 1. Introduction and Background\n",
    "\n",
    "# This project focuses on analyzing e-commerce behavior data to understand how AI-driven recommendations influence shopping behavior. We aim to explore:\n",
    "# \n",
    "# - Product browsing and purchase trends\n",
    "# - User segmentation using clustering techniques\n",
    "# - Effectiveness of recommendation systems\n",
    "# - Impact of AI recommendations on purchase likelihood and shopping time\n",
    "# - Seasonal trends in shopping behavior\n",
    "# - Sentiment analysis of product reviews\n",
    "# \n",
    "# The project uses a comprehensive e-commerce dataset from a multi-category store, available on Kaggle.\n",
    "\n",
    "# ## 2. Data Loading and Initial Exploration\n"
   ]
  },
  {
   "cell_type": "code",
   "execution_count": 11,
   "id": "f4e47c48-4adf-4f32-9ab8-3bb57bc8b176",
   "metadata": {},
   "outputs": [
    {
     "name": "stdout",
     "output_type": "stream",
     "text": [
      "Dataset loaded successfully with 1000000 rows and 9 columns.\n",
      "<class 'pandas.core.frame.DataFrame'>\n",
      "RangeIndex: 1000000 entries, 0 to 999999\n",
      "Data columns (total 9 columns):\n",
      " #   Column         Non-Null Count    Dtype  \n",
      "---  ------         --------------    -----  \n",
      " 0   event_time     1000000 non-null  object \n",
      " 1   event_type     1000000 non-null  object \n",
      " 2   product_id     1000000 non-null  int64  \n",
      " 3   category_id    1000000 non-null  int64  \n",
      " 4   category_code  915317 non-null   object \n",
      " 5   brand          895048 non-null   object \n",
      " 6   price          1000000 non-null  float64\n",
      " 7   user_id        1000000 non-null  int64  \n",
      " 8   user_session   999994 non-null   object \n",
      "dtypes: float64(1), int64(3), object(5)\n",
      "memory usage: 68.7+ MB\n"
     ]
    },
    {
     "data": {
      "text/html": [
       "<div>\n",
       "<style scoped>\n",
       "    .dataframe tbody tr th:only-of-type {\n",
       "        vertical-align: middle;\n",
       "    }\n",
       "\n",
       "    .dataframe tbody tr th {\n",
       "        vertical-align: top;\n",
       "    }\n",
       "\n",
       "    .dataframe thead th {\n",
       "        text-align: right;\n",
       "    }\n",
       "</style>\n",
       "<table border=\"1\" class=\"dataframe\">\n",
       "  <thead>\n",
       "    <tr style=\"text-align: right;\">\n",
       "      <th></th>\n",
       "      <th>product_id</th>\n",
       "      <th>category_id</th>\n",
       "      <th>price</th>\n",
       "      <th>user_id</th>\n",
       "    </tr>\n",
       "  </thead>\n",
       "  <tbody>\n",
       "    <tr>\n",
       "      <th>count</th>\n",
       "      <td>1.000000e+06</td>\n",
       "      <td>1.000000e+06</td>\n",
       "      <td>1000000.000000</td>\n",
       "      <td>1.000000e+06</td>\n",
       "    </tr>\n",
       "    <tr>\n",
       "      <th>mean</th>\n",
       "      <td>3.283568e+07</td>\n",
       "      <td>2.172217e+18</td>\n",
       "      <td>311.880428</td>\n",
       "      <td>5.752292e+08</td>\n",
       "    </tr>\n",
       "    <tr>\n",
       "      <th>std</th>\n",
       "      <td>4.187056e+07</td>\n",
       "      <td>8.479174e+16</td>\n",
       "      <td>369.086812</td>\n",
       "      <td>4.505875e+07</td>\n",
       "    </tr>\n",
       "    <tr>\n",
       "      <th>min</th>\n",
       "      <td>1.000978e+06</td>\n",
       "      <td>2.053014e+18</td>\n",
       "      <td>0.000000</td>\n",
       "      <td>1.046558e+08</td>\n",
       "    </tr>\n",
       "    <tr>\n",
       "      <th>25%</th>\n",
       "      <td>1.307331e+06</td>\n",
       "      <td>2.053014e+18</td>\n",
       "      <td>69.320000</td>\n",
       "      <td>5.296691e+08</td>\n",
       "    </tr>\n",
       "    <tr>\n",
       "      <th>50%</th>\n",
       "      <td>8.800773e+06</td>\n",
       "      <td>2.232732e+18</td>\n",
       "      <td>187.910000</td>\n",
       "      <td>5.738721e+08</td>\n",
       "    </tr>\n",
       "    <tr>\n",
       "      <th>75%</th>\n",
       "      <td>1.000111e+08</td>\n",
       "      <td>2.232732e+18</td>\n",
       "      <td>398.720000</td>\n",
       "      <td>6.210633e+08</td>\n",
       "    </tr>\n",
       "    <tr>\n",
       "      <th>max</th>\n",
       "      <td>1.001860e+08</td>\n",
       "      <td>2.253831e+18</td>\n",
       "      <td>2574.070000</td>\n",
       "      <td>6.354001e+08</td>\n",
       "    </tr>\n",
       "  </tbody>\n",
       "</table>\n",
       "</div>"
      ],
      "text/plain": [
       "         product_id   category_id           price       user_id\n",
       "count  1.000000e+06  1.000000e+06  1000000.000000  1.000000e+06\n",
       "mean   3.283568e+07  2.172217e+18      311.880428  5.752292e+08\n",
       "std    4.187056e+07  8.479174e+16      369.086812  4.505875e+07\n",
       "min    1.000978e+06  2.053014e+18        0.000000  1.046558e+08\n",
       "25%    1.307331e+06  2.053014e+18       69.320000  5.296691e+08\n",
       "50%    8.800773e+06  2.232732e+18      187.910000  5.738721e+08\n",
       "75%    1.000111e+08  2.232732e+18      398.720000  6.210633e+08\n",
       "max    1.001860e+08  2.253831e+18     2574.070000  6.354001e+08"
      ]
     },
     "execution_count": 11,
     "metadata": {},
     "output_type": "execute_result"
    }
   ],
   "source": [
    "url = 'https://data.rees46.com/datasets/marketplace/2020-Apr.csv.gz'\n",
    "\n",
    "# Load the dataset\n",
    "try:\n",
    "    df = pd.read_csv(file_path, nrows=1000000, compression='gzip')\n",
    "    \n",
    "    print(f\"Dataset loaded successfully with {df.shape[0]} rows and {df.shape[1]} columns.\")\n",
    "except Exception as e:\n",
    "    print(f\"Error loading dataset: {e}\")\n",
    "\n",
    "df.head()\n",
    "df.info()\n",
    "df.describe()"
   ]
  },
  {
   "cell_type": "code",
   "execution_count": 13,
   "id": "d8600229-1b89-4bb7-bb43-c85adfa6a4c2",
   "metadata": {},
   "outputs": [
    {
     "data": {
      "text/html": [
       "<div>\n",
       "<style scoped>\n",
       "    .dataframe tbody tr th:only-of-type {\n",
       "        vertical-align: middle;\n",
       "    }\n",
       "\n",
       "    .dataframe tbody tr th {\n",
       "        vertical-align: top;\n",
       "    }\n",
       "\n",
       "    .dataframe thead th {\n",
       "        text-align: right;\n",
       "    }\n",
       "</style>\n",
       "<table border=\"1\" class=\"dataframe\">\n",
       "  <thead>\n",
       "    <tr style=\"text-align: right;\">\n",
       "      <th></th>\n",
       "      <th>Missing Values</th>\n",
       "      <th>Percentage</th>\n",
       "    </tr>\n",
       "  </thead>\n",
       "  <tbody>\n",
       "    <tr>\n",
       "      <th>category_code</th>\n",
       "      <td>84683</td>\n",
       "      <td>8.4683</td>\n",
       "    </tr>\n",
       "    <tr>\n",
       "      <th>brand</th>\n",
       "      <td>104952</td>\n",
       "      <td>10.4952</td>\n",
       "    </tr>\n",
       "    <tr>\n",
       "      <th>user_session</th>\n",
       "      <td>6</td>\n",
       "      <td>0.0006</td>\n",
       "    </tr>\n",
       "  </tbody>\n",
       "</table>\n",
       "</div>"
      ],
      "text/plain": [
       "               Missing Values  Percentage\n",
       "category_code           84683      8.4683\n",
       "brand                  104952     10.4952\n",
       "user_session                6      0.0006"
      ]
     },
     "execution_count": 13,
     "metadata": {},
     "output_type": "execute_result"
    }
   ],
   "source": [
    "missing_values = df.isnull().sum()\n",
    "missing_percent = (missing_values/ len(df)) * 100\n",
    "missing_df = pd.DataFrame({'Missing Values': missing_values,'Percentage': missing_percent})\n",
    "missing_df[missing_df['Missing Values'] > 0]"
   ]
  },
  {
   "cell_type": "code",
   "execution_count": null,
   "id": "aa1c91d1-5fa1-4d92-af47-f063db3525da",
   "metadata": {},
   "outputs": [],
   "source": []
  }
 ],
 "metadata": {
  "kernelspec": {
   "display_name": "Python 3 (ipykernel)",
   "language": "python",
   "name": "python3"
  },
  "language_info": {
   "codemirror_mode": {
    "name": "ipython",
    "version": 3
   },
   "file_extension": ".py",
   "mimetype": "text/x-python",
   "name": "python",
   "nbconvert_exporter": "python",
   "pygments_lexer": "ipython3",
   "version": "3.11.12"
  }
 },
 "nbformat": 4,
 "nbformat_minor": 5
}
